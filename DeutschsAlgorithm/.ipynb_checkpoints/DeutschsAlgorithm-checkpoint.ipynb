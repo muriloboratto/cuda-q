{
 "cells": [
  {
   "cell_type": "markdown",
   "id": "e804aec0",
   "metadata": {},
   "source": [
    "## Deutsch's Algorithm"
   ]
  },
  {
   "cell_type": "markdown",
   "id": "8bbf78fd-0439-413e-85f8-3ea5f6a3cbcc",
   "metadata": {},
   "source": [
    "### Overview\n",
    "Deutsch's Algorithm is a simple quantum algorithm that determines whether a given function \\( $f: \\{0, 1\\} \\rightarrow \\{0, 1\\}$ \\) is constant or balanced. The algorithm requires only one query to the function, whereas a classical algorithm would require two."
   ]
  },
  {
   "cell_type": "markdown",
   "id": "0d7e5b59-1a28-41de-8383-3cc55699cb70",
   "metadata": {},
   "source": [
    "### Sequential Code"
   ]
  },
  {
   "cell_type": "code",
   "execution_count": 2,
   "id": "3487ba75-383a-449d-ba69-c6e9ae4b2e28",
   "metadata": {},
   "outputs": [
    {
     "name": "stdout",
     "output_type": "stream",
     "text": [
      "Overwriting deutsch-sequential.c\n"
     ]
    }
   ],
   "source": [
    "%%writefile deutsch-sequential.c \n",
    "#include <stdio.h>\n",
    "\n",
    "// Define the function f: {0, 1} -> {0, 1}\n",
    "int f(int x) {\n",
    "    // Example function: f(0) = 0, f(1) = 1 (balanced)\n",
    "    return x;\n",
    "}\n",
    "\n",
    "int deutschAlgorithm() {\n",
    "    // Evaluate f(0) and f(1)\n",
    "    int f0 = f(0);\n",
    "    int f1 = f(1);\n",
    "\n",
    "    // Check if f is constant or balanced\n",
    "    if (f0 == f1) {\n",
    "        return 0; // Constant function\n",
    "    } else {\n",
    "        return 1; // Balanced function\n",
    "    }\n",
    "}\n",
    "\n",
    "int main(int argc, char **argv) \n",
    "{\n",
    "    int result = deutschAlgorithm();\n",
    "\n",
    "    if (result == 0) {\n",
    "        printf(\"The function is constant.\\n\");\n",
    "    } else {\n",
    "        printf(\"The function is balanced.\\n\");\n",
    "    }\n",
    "\n",
    "    return 0;\n",
    "}"
   ]
  },
  {
   "cell_type": "code",
   "execution_count": 3,
   "id": "8b1f9267-05be-4cc1-be52-ace57d663835",
   "metadata": {},
   "outputs": [],
   "source": [
    "!gcc deutsch-sequential.c -o deutsch-sequential"
   ]
  },
  {
   "cell_type": "code",
   "execution_count": 4,
   "id": "90fff861-ec23-4c64-8fb2-8d3df10f7b9f",
   "metadata": {},
   "outputs": [
    {
     "name": "stdout",
     "output_type": "stream",
     "text": [
      "The function is balanced.\n"
     ]
    }
   ],
   "source": [
    "!./deutsch-sequential"
   ]
  },
  {
   "cell_type": "markdown",
   "id": "4399b258-c1f1-4ea6-9ec5-c24e88032b20",
   "metadata": {},
   "source": [
    "### CUDA"
   ]
  },
  {
   "cell_type": "code",
   "execution_count": 5,
   "id": "49bbc3af-4c48-427f-bf47-16f2bdb85345",
   "metadata": {},
   "outputs": [
    {
     "name": "stdout",
     "output_type": "stream",
     "text": [
      "Overwriting deutsch-cuda.cu\n"
     ]
    }
   ],
   "source": [
    "%%writefile deutsch-cuda.cu\n",
    "#include <stdio.h>\n",
    "#include <cuda.h>\n",
    "\n",
    "// Define the function f: {0, 1} -> {0, 1}\n",
    "__device__ int f(int x) {\n",
    "    // Example function: f(0) = 0, f(1) = 1 (balanced)\n",
    "    return x;\n",
    "}\n",
    "\n",
    "// CUDA kernel to evaluate f(0) and f(1) in parallel\n",
    "__global__ void deutsch_kernel(int *d_results) {\n",
    "    int tid = threadIdx.x; // Thread ID (0 or 1)\n",
    "    d_results[tid] = f(tid); // Evaluate f(x) for x = tid\n",
    "}\n",
    "\n",
    "int main(int argc, char **argv) {\n",
    "\n",
    "    int h_results[2]; // Host results array\n",
    "    int *d_results;   // Device results array\n",
    "\n",
    "    // Allocate memory on the device\n",
    "    cudaMalloc((void **)&d_results, 2 * sizeof(int));\n",
    "\n",
    "    // Launch the kernel with 2 threads (one for each input)\n",
    "    deutsch_kernel<<<1, 2>>>(d_results);\n",
    "\n",
    "    // Copy the results back to the host\n",
    "    cudaMemcpy(h_results, d_results, 2 * sizeof(int), cudaMemcpyDeviceToHost);\n",
    "\n",
    "    // Check if the function is constant or balanced\n",
    "    if (h_results[0] == h_results[1]) {\n",
    "        printf(\"The function is constant.\\n\");\n",
    "    } else {\n",
    "        printf(\"The function is balanced.\\n\");\n",
    "    }\n",
    "\n",
    "    // Free device memory\n",
    "    cudaFree(d_results);\n",
    "\n",
    "    return 0;\n",
    "}"
   ]
  },
  {
   "cell_type": "code",
   "execution_count": 6,
   "id": "429ed7ff-04ec-413d-8509-faab0c20e420",
   "metadata": {},
   "outputs": [],
   "source": [
    "!nvcc deutsch-cuda.cu -o deutsch-cuda"
   ]
  },
  {
   "cell_type": "code",
   "execution_count": 7,
   "id": "d9a54945-aee2-4a05-a41b-ff7596ca88a6",
   "metadata": {},
   "outputs": [
    {
     "name": "stdout",
     "output_type": "stream",
     "text": [
      "The function is balanced.\n"
     ]
    }
   ],
   "source": [
    "!./deutsch-cuda"
   ]
  },
  {
   "cell_type": "markdown",
   "id": "c95b28b9-62ab-4deb-ab05-fc4fe64809b3",
   "metadata": {},
   "source": [
    "### CUDA-Q `Python`"
   ]
  },
  {
   "cell_type": "code",
   "execution_count": 9,
   "id": "0cc5a39d-b078-42f2-b937-a4e78a5f14d0",
   "metadata": {},
   "outputs": [
    {
     "name": "stdout",
     "output_type": "stream",
     "text": [
      "Overwriting deutsch-cudaq.py\n"
     ]
    }
   ],
   "source": [
    "%%writefile deutsch-cudaq.py\n",
    "import cudaq\n",
    "import numpy as np\n",
    "from typing import List\n",
    "\n",
    "cudaq.set_target(\"nvidia\")\n",
    "\n",
    "# Here we input the values of [f(0), f(1)] which allows us to represent constant or balanced functions.\n",
    "fx = [0, 1]\n",
    "\n",
    "# Let us now code up the circuit shown above following the state Psi after each step.\n",
    "qubit_count = 2\n",
    "\n",
    "@cudaq.kernel\n",
    "def kernel(fx: List[int]):\n",
    "    qubit_0 = cudaq.qubit()\n",
    "    qubit_1 = cudaq.qubit()\n",
    "\n",
    "    # Psi 0\n",
    "    x(qubit_1)\n",
    "\n",
    "    # Psi 1\n",
    "    h(qubit_0)\n",
    "    h(qubit_1)\n",
    "\n",
    "    # Psi 2 - oracle\n",
    "    if fx[0] == 1:\n",
    "        x.ctrl(qubit_0, qubit_1)\n",
    "        x(qubit_1)\n",
    "\n",
    "    if fx[1] == 1:\n",
    "        x.ctrl(qubit_0, qubit_1)\n",
    "\n",
    "    # Psi 3\n",
    "    h(qubit_0)\n",
    "\n",
    "    # Measure the qubit to yield if the function is constant or balanced.\n",
    "    mz(qubit_0)\n",
    "\n",
    "print(cudaq.draw(kernel, fx))\n",
    "\n",
    "result = cudaq.sample(kernel, fx, shots_count=1)\n",
    "\n",
    "if np.array(result)[0] == '0':\n",
    "    print('The function is constant.')\n",
    "elif np.array(result)[0] == '1':\n",
    "    print('The function is balanced.')"
   ]
  },
  {
   "cell_type": "code",
   "execution_count": 10,
   "id": "c34fe656-e155-421d-b37b-817a85a49416",
   "metadata": {},
   "outputs": [
    {
     "name": "stdout",
     "output_type": "stream",
     "text": [
      "     ╭───╮          ╭───╮\n",
      "q0 : ┤ h ├───────●──┤ h ├\n",
      "     ├───┤╭───╮╭─┴─╮╰───╯\n",
      "q1 : ┤ x ├┤ h ├┤ x ├─────\n",
      "     ╰───╯╰───╯╰───╯     \n",
      "\n",
      "The function is balanced.\n"
     ]
    }
   ],
   "source": [
    "!python deutsch-cudaq.py"
   ]
  },
  {
   "cell_type": "markdown",
   "id": "85d8d503-3e5d-41aa-b086-41e5e39823a5",
   "metadata": {},
   "source": [
    "### CUDA-Q `C++`"
   ]
  },
  {
   "cell_type": "code",
   "execution_count": 16,
   "id": "2b16a7ac-6871-4ecc-ba80-fa293f8b5b9f",
   "metadata": {},
   "outputs": [
    {
     "name": "stdout",
     "output_type": "stream",
     "text": [
      "Overwriting deutsch-cudaq.cpp\n"
     ]
    }
   ],
   "source": [
    "%%writefile deutsch-cudaq.cpp\n",
    "//TODO\n",
    "#include <cudaq.h>\n",
    "#include <iostream>\n",
    "#include <vector>\n",
    "\n",
    "template <std::size_t N>\n",
    "struct deutschAlgorithm {\n",
    "  auto operator()() __qpu__ {\n",
    "\n",
    "  cudaq::qarray<N> q;\n",
    "\n",
    "  h(q[0]);  // Apply Hadamard gate to qubit 0\n",
    "  x(q[1]);  // Apply X gate to qubit 1\n",
    "  h(q[1]);  // Apply Hadamard gate to qubit 1\n",
    "\n",
    "  x(q[0]);  // Apply X gate to qubit 0 if the function is balanced\n",
    "    \n",
    "  h(q[0]);  // Apply Hadamard gate to qubit 0 again\n",
    "        \n",
    "  auto result = mz(q[0]);\n",
    "\n",
    "    // Output the result\n",
    "    if (result == 0) {\n",
    "        std::cout << \"The function is constant.\" << std::endl;\n",
    "    } else {\n",
    "        std::cout << \"The function is balanced.\" << std::endl;\n",
    "    }\n",
    "   \n",
    "  }\n",
    "};\n",
    "\n",
    "int main(int argc, char **argv) {\n",
    "\n",
    "    auto kernel = deutschAlgorithm<2>{};\n",
    "\n",
    "    return 0;\n",
    "}"
   ]
  },
  {
   "cell_type": "code",
   "execution_count": 17,
   "id": "0f9974f7-0bc7-488d-8815-90e65a7e4d4d",
   "metadata": {},
   "outputs": [],
   "source": [
    "!nvq++ deutsch-cudaq.cpp -o deutsch-cudaq"
   ]
  },
  {
   "cell_type": "code",
   "execution_count": 18,
   "id": "14e680aa-4a14-4418-995e-a5c33ce0c017",
   "metadata": {},
   "outputs": [],
   "source": [
    "!./deutsch-cudaq"
   ]
  },
  {
   "cell_type": "markdown",
   "id": "1d58350f-841c-445b-a1c6-69b1ba883aa1",
   "metadata": {},
   "source": [
    "## Clear the Memory"
   ]
  },
  {
   "cell_type": "markdown",
   "id": "b831fd25-3f70-4279-a960-f4fb258abc3c",
   "metadata": {},
   "source": [
    "Before moving on, please execute the following cell to clear up the CPU memory. This is required to move on to the next notebook."
   ]
  },
  {
   "cell_type": "code",
   "execution_count": null,
   "id": "45734bed-66b4-42ca-a7c9-80e0bea620a5",
   "metadata": {},
   "outputs": [],
   "source": [
    "import IPython\n",
    "app = IPython.Application.instance()\n",
    "app.kernel.do_shutdown(True)"
   ]
  }
 ],
 "metadata": {
  "kernelspec": {
   "display_name": "Python 3 (ipykernel)",
   "language": "python",
   "name": "python3"
  },
  "language_info": {
   "codemirror_mode": {
    "name": "ipython",
    "version": 3
   },
   "file_extension": ".py",
   "mimetype": "text/x-python",
   "name": "python",
   "nbconvert_exporter": "python",
   "pygments_lexer": "ipython3",
   "version": "3.8.8"
  }
 },
 "nbformat": 4,
 "nbformat_minor": 5
}
