{
 "cells": [
  {
   "cell_type": "markdown",
   "id": "e804aec0",
   "metadata": {},
   "source": [
    "# Deutsch's Algorithm\n",
    "---"
   ]
  },
  {
   "cell_type": "markdown",
   "id": "787eaf82-813a-4d35-a44d-3906fe9690c8",
   "metadata": {},
   "source": [
    "Deutsch's Algorithm is a simple quantum algorithm that determines whether a given function \\( $f: \\{0, 1\\} \\rightarrow \\{0, 1\\}$ \\) is constant or balanced. The algorithm requires only one query to the function, whereas a classical algorithm would require two."
   ]
  },
  {
   "cell_type": "markdown",
   "id": "0d7e5b59-1a28-41de-8383-3cc55699cb70",
   "metadata": {},
   "source": [
    "## ⊗ Sequential Code"
   ]
  },
  {
   "cell_type": "code",
   "execution_count": 1,
   "id": "3487ba75-383a-449d-ba69-c6e9ae4b2e28",
   "metadata": {},
   "outputs": [
    {
     "name": "stdout",
     "output_type": "stream",
     "text": [
      "Writing deutsch-sequential.c\n"
     ]
    }
   ],
   "source": [
    "%%writefile deutsch-sequential.c \n",
    "#include <stdio.h>\n",
    "\n",
    "// Define the function f: {0, 1} -> {0, 1}\n",
    "int f(int x) {\n",
    "    // Example function: f(0) = 0, f(1) = 1 (balanced)\n",
    "    return x;\n",
    "}\n",
    "\n",
    "int deutschAlgorithm() {\n",
    "    // Evaluate f(0) and f(1)\n",
    "    int f0 = f(0);\n",
    "    int f1 = f(1);\n",
    "\n",
    "    // Check if f is constant or balanced\n",
    "    if (f0 == f1) {\n",
    "        return 0; // Constant function\n",
    "    } else {\n",
    "        return 1; // Balanced function\n",
    "    }\n",
    "}\n",
    "\n",
    "int main(int argc, char **argv) \n",
    "{\n",
    "    int result = deutschAlgorithm();\n",
    "\n",
    "    if (result == 0) {\n",
    "        printf(\"The function is constant.\\n\");\n",
    "    } else {\n",
    "        printf(\"The function is balanced.\\n\");\n",
    "    }\n",
    "\n",
    "    return 0;\n",
    "}"
   ]
  },
  {
   "cell_type": "code",
   "execution_count": 2,
   "id": "8b1f9267-05be-4cc1-be52-ace57d663835",
   "metadata": {},
   "outputs": [],
   "source": [
    "!gcc deutsch-sequential.c -o deutsch-sequential"
   ]
  },
  {
   "cell_type": "code",
   "execution_count": 3,
   "id": "90fff861-ec23-4c64-8fb2-8d3df10f7b9f",
   "metadata": {},
   "outputs": [
    {
     "name": "stdout",
     "output_type": "stream",
     "text": [
      "The function is balanced.\n"
     ]
    }
   ],
   "source": [
    "!./deutsch-sequential"
   ]
  },
  {
   "cell_type": "markdown",
   "id": "4399b258-c1f1-4ea6-9ec5-c24e88032b20",
   "metadata": {},
   "source": [
    "## ⊗ CUDA"
   ]
  },
  {
   "cell_type": "code",
   "execution_count": 4,
   "id": "49bbc3af-4c48-427f-bf47-16f2bdb85345",
   "metadata": {},
   "outputs": [
    {
     "name": "stdout",
     "output_type": "stream",
     "text": [
      "Writing deutsch-cuda.cu\n"
     ]
    }
   ],
   "source": [
    "%%writefile deutsch-cuda.cu\n",
    "#include <stdio.h>\n",
    "#include <cuda.h>\n",
    "\n",
    "// Define the function f: {0, 1} -> {0, 1}\n",
    "__device__ int f(int x) {\n",
    "    // Example function: f(0) = 0, f(1) = 1 (balanced)\n",
    "    return x;\n",
    "}\n",
    "\n",
    "// CUDA kernel to evaluate f(0) and f(1) in parallel\n",
    "__global__ void deutsch_kernel(int *d_results) {\n",
    "    int tid = threadIdx.x; // Thread ID (0 or 1)\n",
    "    d_results[tid] = f(tid); // Evaluate f(x) for x = tid\n",
    "}\n",
    "\n",
    "int main(int argc, char **argv) {\n",
    "\n",
    "    int h_results[2]; // Host results array\n",
    "    int *d_results;   // Device results array\n",
    "\n",
    "    // Allocate memory on the device\n",
    "    cudaMalloc((void **)&d_results, 2 * sizeof(int));\n",
    "\n",
    "    // Launch the kernel with 2 threads (one for each input)\n",
    "    deutsch_kernel<<<1, 2>>>(d_results);\n",
    "\n",
    "    // Copy the results back to the host\n",
    "    cudaMemcpy(h_results, d_results, 2 * sizeof(int), cudaMemcpyDeviceToHost);\n",
    "\n",
    "    // Check if the function is constant or balanced\n",
    "    if (h_results[0] == h_results[1])\n",
    "        printf(\"The function is constant.\\n\");\n",
    "    else \n",
    "        printf(\"The function is balanced.\\n\");\n",
    "\n",
    "    // Free device memory\n",
    "    cudaFree(d_results);\n",
    "\n",
    "    return 0;\n",
    "}"
   ]
  },
  {
   "cell_type": "code",
   "execution_count": 5,
   "id": "429ed7ff-04ec-413d-8509-faab0c20e420",
   "metadata": {},
   "outputs": [],
   "source": [
    "!nvcc deutsch-cuda.cu -o deutsch-cuda"
   ]
  },
  {
   "cell_type": "code",
   "execution_count": 6,
   "id": "d9a54945-aee2-4a05-a41b-ff7596ca88a6",
   "metadata": {},
   "outputs": [
    {
     "name": "stdout",
     "output_type": "stream",
     "text": [
      "The function is balanced.\n"
     ]
    }
   ],
   "source": [
    "!./deutsch-cuda"
   ]
  },
  {
   "cell_type": "markdown",
   "id": "475b214b-e219-494f-835f-379e8ead961d",
   "metadata": {},
   "source": [
    "<details>\n",
    "\n",
    "  <summary>Tips of the code</summary>\n",
    "\n",
    "  **`CUDA Execution`**\n",
    "    \n",
    "**a) CUDA Kernel (`deutsch_kernel`)**\n",
    "```cpp\n",
    "__global__ void deutsch_kernel(int *d_results) {\n",
    "    int tid = threadIdx.x;   // Thread ID (0 or 1)\n",
    "    d_results[tid] = f(tid); // Evaluate f(x) for x = tid\n",
    "}\n",
    "```\n",
    "- This kernel is launched with **two threads** (one per input: `tid = 0` and `tid = 1`).\n",
    "- Each thread computes \\( f(x) \\) for its corresponding input and stores the result in `d_results`.\n",
    "\n",
    "**b) Device Function (`f`)**\n",
    "```cpp\n",
    "__device__ int f(int x) {\n",
    "    return x; // Example: f(0) = 0, f(1) = 1 (balanced function)\n",
    "}\n",
    "```\n",
    "- This defines the function \\( f(x) \\).\n",
    "- In this example, \\( f(0) = 0 \\) and \\( f(1) = 1 \\), which makes the function **balanced**.\n",
    "\n",
    "\n",
    " **`Host Code Execution`**\n",
    "    \n",
    " **a) Memory Allocation**\n",
    "```cpp\n",
    "cudaMalloc((void **)&d_results, 2 * sizeof(int));\n",
    "```\n",
    "- Allocates memory on the **GPU** to store results for \\( f(0) \\) and \\( f(1) \\).\n",
    "\n",
    " **b) Kernel Launch**\n",
    "```cpp\n",
    "deutsch_kernel<<<1, 2>>>(d_results);\n",
    "```\n",
    "- **1 block** with **2 threads** is launched.\n",
    "- Thread 0 computes \\( f(0) \\) and stores it in `d_results[0]`.\n",
    "- Thread 1 computes \\( f(1) \\) and stores it in `d_results[1]`.\n",
    "\n",
    " **c) Copying Data Back to Host**\n",
    "```cpp\n",
    "cudaMemcpy(h_results, d_results, 2 * sizeof(int), cudaMemcpyDeviceToHost);\n",
    "```\n",
    "- Copies the computed results from the **GPU** back to the **CPU**.\n",
    "\n",
    " **d) Checking Function Type**\n",
    "```cpp\n",
    "if (h_results[0] == h_results[1]) \n",
    "    printf(\"The function is constant.\\n\");\n",
    "else\n",
    "    printf(\"The function is balanced.\\n\");\n",
    "```\n",
    "- If \\( f(0) = f(1) \\), the function is **constant**.\n",
    "- Otherwise, it is **balanced**.\n",
    "\n",
    "</details>"
   ]
  },
  {
   "cell_type": "markdown",
   "id": "c95b28b9-62ab-4deb-ab05-fc4fe64809b3",
   "metadata": {},
   "source": [
    "## ⊗ CUDA-Q `Python`"
   ]
  },
  {
   "cell_type": "code",
   "execution_count": 7,
   "id": "0cc5a39d-b078-42f2-b937-a4e78a5f14d0",
   "metadata": {},
   "outputs": [
    {
     "name": "stdout",
     "output_type": "stream",
     "text": [
      "Writing deutsch-cudaq.py\n"
     ]
    }
   ],
   "source": [
    "%%writefile deutsch-cudaq.py\n",
    "import cudaq\n",
    "import numpy as np\n",
    "from typing import List\n",
    "\n",
    "cudaq.set_target(\"nvidia\")\n",
    "\n",
    "# Here we input the values of [f(0), f(1)] which allows us to represent constant or balanced functions.\n",
    "fx = [0, 1]\n",
    "\n",
    "# Let us now code up the circuit shown above following the state Psi after each step.\n",
    "qubit_count = 2\n",
    "\n",
    "@cudaq.kernel\n",
    "def kernel(fx: List[int]):\n",
    "    qubit_0 = cudaq.qubit()\n",
    "    qubit_1 = cudaq.qubit()\n",
    "\n",
    "    # Psi 0\n",
    "    x(qubit_1)\n",
    "\n",
    "    # Psi 1\n",
    "    h(qubit_0)\n",
    "    h(qubit_1)\n",
    "\n",
    "    # Psi 2 - oracle\n",
    "    if fx[0] == 1:\n",
    "        x.ctrl(qubit_0, qubit_1)\n",
    "        x(qubit_1)\n",
    "\n",
    "    if fx[1] == 1:\n",
    "        x.ctrl(qubit_0, qubit_1)\n",
    "\n",
    "    # Psi 3\n",
    "    h(qubit_0)\n",
    "\n",
    "    # Measure the qubit to yield if the function is constant or balanced.\n",
    "    mz(qubit_0)\n",
    "\n",
    "print(cudaq.draw(kernel, fx))\n",
    "\n",
    "result = cudaq.sample(kernel, fx, shots_count=1)\n",
    "\n",
    "if np.array(result)[0] == '0':\n",
    "    print('The function is constant.')\n",
    "elif np.array(result)[0] == '1':\n",
    "    print('The function is balanced.')"
   ]
  },
  {
   "cell_type": "code",
   "execution_count": 8,
   "id": "c34fe656-e155-421d-b37b-817a85a49416",
   "metadata": {},
   "outputs": [
    {
     "name": "stdout",
     "output_type": "stream",
     "text": [
      "     ╭───╮          ╭───╮\n",
      "q0 : ┤ h ├───────●──┤ h ├\n",
      "     ├───┤╭───╮╭─┴─╮╰───╯\n",
      "q1 : ┤ x ├┤ h ├┤ x ├─────\n",
      "     ╰───╯╰───╯╰───╯     \n",
      "\n",
      "The function is balanced.\n"
     ]
    }
   ],
   "source": [
    "!python deutsch-cudaq.py"
   ]
  },
  {
   "cell_type": "markdown",
   "id": "51086171-7799-40b7-aa36-1fecfea88da4",
   "metadata": {},
   "source": [
    "<details>\n",
    "\n",
    "  <summary>Tips of the code</summary>\n",
    "\n",
    "**`Step-by-Step Quantum Computation`**\n",
    "    \n",
    " **(a) Register Initialization**\n",
    "```python\n",
    "qubit_0 = cudaq.qubit()\n",
    "qubit_1 = cudaq.qubit()\n",
    "```\n",
    "- **qubit_0**: Represents the **input qubit** (superposition state).\n",
    "- **qubit_1**: Represents the **oracle qubit**, initialized in \\(|1\\rangle\\).\n",
    "\n",
    "**(b) Prepare Oracle Qubit**\n",
    "```python\n",
    "x(qubit_1)  # Apply X gate on qubit_1 (flips |0> to |1>)\n",
    "```\n",
    "- This initializes qubit_1, which is needed for phase kickback.\n",
    "\n",
    "**(c) Apply Hadamard Gates to Create Superposition**\n",
    "```python\n",
    "h(qubit_0)\n",
    "h(qubit_1)\n",
    "```\n",
    "- Hadamard (\\( H \\)) is applied to **both qubits**\n",
    "\n",
    "**(d) Oracle Implementation**\n",
    "```python\n",
    "if fx[0] == 1:\n",
    "    x.ctrl(qubit_0, qubit_1)\n",
    "    x(qubit_1)\n",
    "\n",
    "if fx[1] == 1:\n",
    "    x.ctrl(qubit_0, qubit_1)\n",
    "```\n",
    "- The oracle **encodes** \\( f(x) \\) in qubit_1 using **controlled-X gates**.\n",
    "- Depending on \\( f(0) \\) and \\( f(1) \\), the circuit applies:\n",
    "  - **\\( X \\) (NOT gate)** on qubit_1 if \\( f(0) = 1 \\).\n",
    "  - **Controlled-X (CNOT) gate** if \\( f(1) = 1 \\).\n",
    "- This step **modifies qubit_0's phase based on the function**.\n",
    "\n",
    "**(e) Interference via Hadamard**\n",
    "```python\n",
    "h(qubit_0)\n",
    "```\n",
    "- Applying \\( H \\) again on qubit_0 **causes interference**, leading to:\n",
    "  - If \\( f(0) = f(1) \\) → **qubit_0 collapses to |0⟩** (constant function).\n",
    "  - If \\( f(0) \\neq f(1) \\) → **qubit_0 collapses to |1⟩** (balanced function).\n",
    "\n",
    "**(f) Measurement**\n",
    "```python\n",
    "mz(qubit_0)\n",
    "```\n",
    "- Measures qubit_0 to determine if the function is **constant or balanced**.\n",
    "\n",
    "\n",
    "**`Running the Quantum Kernel`**\n",
    "    \n",
    "**(a) Visualizing the Quantum Circuit**\n",
    "```python\n",
    "print(cudaq.draw(kernel, fx))\n",
    "```\n",
    "This prints the circuit representation.\n",
    "\n",
    "**(b) Executing and Checking Result**\n",
    "```python\n",
    "result = cudaq.sample(kernel, fx, shots_count=1)\n",
    "```\n",
    "- Runs the quantum kernel **once** and samples the result.\n",
    "\n",
    "**(c) Interpreting the Output**\n",
    "```python\n",
    "if np.array(result)[0] == '0':\n",
    "    print('The function is constant.')\n",
    "elif np.array(result)[0] == '1':\n",
    "    print('The function is balanced.')\n",
    "```\n",
    "- If qubit_0 measures **0**, \\( f(x) \\) is **constant**.\n",
    "- If qubit_0 measures **1**, \\( f(x) \\) is **balanced**.\n",
    "\n",
    "</details>"
   ]
  },
  {
   "cell_type": "markdown",
   "id": "85d8d503-3e5d-41aa-b086-41e5e39823a5",
   "metadata": {},
   "source": [
    "## ⊗ CUDA-Q `C++`"
   ]
  },
  {
   "cell_type": "code",
   "execution_count": 1,
   "id": "2b16a7ac-6871-4ecc-ba80-fa293f8b5b9f",
   "metadata": {},
   "outputs": [
    {
     "name": "stdout",
     "output_type": "stream",
     "text": [
      "Writing deutsch-cudaq.cpp\n"
     ]
    }
   ],
   "source": [
    "%%writefile deutsch-cudaq.cpp\n",
    "#include <cudaq.h>\n",
    "#include <iostream>\n",
    "#include <vector>\n",
    "\n",
    "__qpu__ void kernel(int N) {\n",
    "  cudaq::qvector q(N);\n",
    "\n",
    "  x(q[0]);  // Apply X gate to the ancilla qubit\n",
    "\n",
    "  // Apply Hadamard gates to both qubits\n",
    "  h(q[0]);\n",
    "  h(q[1]);\n",
    "\n",
    "  x<cudaq::ctrl>(q[0], q[1]);\n",
    "      \n",
    "  h(q[0]);\n",
    "\n",
    "  // Measure the first qubit\n",
    "  mz(q[0]);\n",
    "}\n",
    "\n",
    "int main(int argc, char **argv) {\n",
    "    int qubit_count = 2;\n",
    "    auto result_0 = cudaq::sample(kernel, qubit_count);\n",
    "    result_0.dump();\n",
    "\n",
    "    auto result = std::stoi(result_0.most_probable());\n",
    "\n",
    "    // Output the result\n",
    "    if (result == 0) {\n",
    "    std::cout << \"The function is constant.\" << std::endl;\n",
    "    } else {\n",
    "    std::cout << \"The function is balanced.\" << std::endl;\n",
    "    }\n",
    "\n",
    "    return 0;\n",
    "}"
   ]
  },
  {
   "cell_type": "code",
   "execution_count": 2,
   "id": "0f9974f7-0bc7-488d-8815-90e65a7e4d4d",
   "metadata": {},
   "outputs": [],
   "source": [
    "!nvq++ deutsch-cudaq.cpp -o deutsch-cudaq"
   ]
  },
  {
   "cell_type": "code",
   "execution_count": 3,
   "id": "14e680aa-4a14-4418-995e-a5c33ce0c017",
   "metadata": {},
   "outputs": [
    {
     "name": "stdout",
     "output_type": "stream",
     "text": [
      "{ 1:1000 }\n",
      "The function is balanced.\n"
     ]
    }
   ],
   "source": [
    "!./deutsch-cudaq"
   ]
  },
  {
   "cell_type": "markdown",
   "id": "13a82350-8b12-40ae-b4fb-a9de87d8c69e",
   "metadata": {},
   "source": [
    "<details>\n",
    "\n",
    "<summary>Tips of the code</summary>\n",
    "\n",
    "**`Step-by-Step Breakdown of the CUDA-Q Kernel`**\n",
    "    \n",
    "```cpp\n",
    "__qpu__ void kernel(int N) {\n",
    "  cudaq::qvector q(N);\n",
    "```\n",
    "- **Declares a quantum vector \\( q \\)** of size **N** (which is 2 in this case).\n",
    "- Each entry represents a **quantum bit (qubit)**.\n",
    "\n",
    "**(a) Step 1: Initialize the Oracle Qubit**\n",
    "```cpp\n",
    "  x(q[0]);  // Apply X gate to the ancilla qubit\n",
    "```\n",
    "- Applies an **\\( X \\) (NOT) gate** on **q[0]**.\n",
    "- This flips the qubit.\n",
    "- This is necessary for the **phase kickback** effect in the algorithm.\n",
    "\n",
    "**(b) Step 2: Apply Hadamard Gates (Superposition)**\n",
    "```cpp\n",
    "  h(q[0]);\n",
    "  h(q[1]);\n",
    "```\n",
    "- The **Hadamard gate \\( H \\)** puts each qubit into an **equal superposition.**\n",
    "- Now, the system is in a **superposition of all possible inputs**.\n",
    "\n",
    "**(c) Step 3: Apply the Oracle Function**\n",
    "```cpp\n",
    "  x<cudaq::ctrl>(q[0], q[1]);\n",
    "```\n",
    "- **Controlled-X (CNOT) Gate**: Applies an \\( X \\) gate on **q[1]** **only if** **q[0]** is **1**.\n",
    "- This implements the **oracle \\( U_f \\)**, encoding the function's behavior into the quantum state.\n",
    "\n",
    "\n",
    "**(d) Step 4: Apply Hadamard Again (Interference)**\n",
    "```cpp\n",
    "  h(q[0]);\n",
    "```\n",
    "- Another **Hadamard transform** is applied to **q[0]**.\n",
    "- This **interferes** the quantum states, extracting whether \\( f(x) \\) is **constant or balanced**:\n",
    "  - If \\( f(x) \\) is **constant**, the interference collapses **q[0]** to \\(|0\\rangle\\).\n",
    "  - If \\( f(x) \\) is **balanced**, **q[0]** collapses to \\(|1\\rangle\\).\n",
    "\n",
    "**(e) Step 5: Measure the First Qubit**\n",
    "```cpp\n",
    "  mz(q[0]);\n",
    "```\n",
    "- Measures **q[0]** to get **0 or 1**.\n",
    "- If the result is **0**, \\( f(x) \\) is **constant**.\n",
    "- If the result is **1**, \\( f(x) \\) is **balanced**.\n",
    "\n",
    "\n",
    "**`Running the Kernel in the Main Function`**\n",
    "```cpp\n",
    "int main(int argc, char **argv) {\n",
    "    int qubit_count = 2;\n",
    "    auto result_0 = cudaq::sample(kernel, qubit_count);\n",
    "```\n",
    "- Calls the **quantum kernel** and samples the result.\n",
    "\n",
    "```cpp\n",
    "    result_0.dump();\n",
    "```\n",
    "- Prints the measurement results.\n",
    "\n",
    "```cpp\n",
    "    auto result = std::stoi(result_0.most_probable());\n",
    "```\n",
    "- Extracts the most probable measurement outcome (0 or 1).\n",
    "\n",
    "```cpp\n",
    "    if (result == 0)\n",
    "        std::cout << \"The function is constant.\" << std::endl;\n",
    "    else \n",
    "        std::cout << \"The function is balanced.\" << std::endl;\n",
    "```\n",
    "- **Interprets the result**:\n",
    "  - If the measured qubit **q[0] = 0**, the function is **constant**.\n",
    "  - If the measured qubit **q[0] = 1**, the function is **balanced**.\n",
    "</details>"
   ]
  },
  {
   "cell_type": "markdown",
   "id": "1d58350f-841c-445b-a1c6-69b1ba883aa1",
   "metadata": {},
   "source": [
    "## Clear the Memory"
   ]
  },
  {
   "cell_type": "markdown",
   "id": "b831fd25-3f70-4279-a960-f4fb258abc3c",
   "metadata": {},
   "source": [
    "Before moving on, please execute the following cell to clear up the CPU memory. This is required to move on to the next notebook."
   ]
  },
  {
   "cell_type": "code",
   "execution_count": null,
   "id": "45734bed-66b4-42ca-a7c9-80e0bea620a5",
   "metadata": {},
   "outputs": [],
   "source": [
    "import IPython\n",
    "app = IPython.Application.instance()\n",
    "app.kernel.do_shutdown(True)"
   ]
  }
 ],
 "metadata": {
  "kernelspec": {
   "display_name": "Python 3 (ipykernel)",
   "language": "python",
   "name": "python3"
  },
  "language_info": {
   "codemirror_mode": {
    "name": "ipython",
    "version": 3
   },
   "file_extension": ".py",
   "mimetype": "text/x-python",
   "name": "python",
   "nbconvert_exporter": "python",
   "pygments_lexer": "ipython3",
   "version": "3.8.8"
  }
 },
 "nbformat": 4,
 "nbformat_minor": 5
}
