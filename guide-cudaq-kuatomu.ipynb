{
 "cells": [
  {
   "cell_type": "markdown",
   "id": "549339c3",
   "metadata": {},
   "source": [
    "# CUDA-Q"
   ]
  },
  {
   "cell_type": "markdown",
   "id": "cad2465e",
   "metadata": {},
   "source": [
    "## What is the Computational Configuration of the Supercomputing?"
   ]
  },
  {
   "cell_type": "code",
   "execution_count": null,
   "id": "abb0fe5e",
   "metadata": {
    "tags": []
   },
   "outputs": [],
   "source": [
    "!nvidia-smi #topo -m "
   ]
  },
  {
   "cell_type": "markdown",
   "id": "d8b3f132-1faa-49c6-9a96-dc278afc400f",
   "metadata": {},
   "source": [
    "## How to start the Anaconda Environment CUDA-Q on Kuatomu?"
   ]
  },
  {
   "cell_type": "markdown",
   "id": "0edab442-409f-4679-a0e2-fa21d974b799",
   "metadata": {},
   "source": [
    "### `using python`"
   ]
  },
  {
   "cell_type": "markdown",
   "id": "01335b1b-3b91-4962-8991-590e066e2486",
   "metadata": {},
   "source": [
    "```cpp\n",
    "Steps:\n",
    "\n",
    "1) ssh kuatomu\n",
    "2) module load anaconda3/4.13.0\n",
    "3) source activate cudaq-env\n",
    "4) unset PYTHONPATH\n",
    "```"
   ]
  },
  {
   "cell_type": "markdown",
   "id": "ecbd6782-0dd0-4344-9e86-2ecd7097e89c",
   "metadata": {},
   "source": [
    "### `using C++`"
   ]
  },
  {
   "cell_type": "markdown",
   "id": "ff041119-cf52-4902-986a-609b2b415ce3",
   "metadata": {},
   "source": [
    "```cpp\n",
    "Steps:\n",
    "\n",
    "1) ssh kuatomu\n",
    "2) module load anaconda3/4.13.0\n",
    "3) source activate cudaq-env\n",
    "4) unset PYTHONPATH\n",
    "5) source /opt/nvidia/cudaq/set_env.sh\n",
    "```"
   ]
  },
  {
   "cell_type": "markdown",
   "id": "b1045291-9ba5-4c14-b2ec-c60d80b96372",
   "metadata": {},
   "source": [
    "## Sample test CUDA-Q on Kuatomu"
   ]
  },
  {
   "cell_type": "markdown",
   "id": "45a3fdbc-47c5-45a4-aad2-dc11c574dfb1",
   "metadata": {},
   "source": [
    "### `python`"
   ]
  },
  {
   "cell_type": "code",
   "execution_count": null,
   "id": "7acb1988-ca5a-498e-ab15-f35fe0f28fb6",
   "metadata": {},
   "outputs": [],
   "source": [
    "%%writefile sample-cudaq.py\n",
    "import cudaq\n",
    "\n",
    "qubit_count = 2\n",
    "\n",
    "print(cudaq.draw(kernel, qubit_count))\n",
    "\n",
    "results = cudaq.sample(kernel, qubit_count)\n",
    "# Should see a roughly 50/50 distribution between the |00> and\n",
    "# |11> states. Example: {00: 505  11: 495}\n",
    "\n",
    "print(\"Measurement distribution:\" + str(results))"
   ]
  },
  {
   "cell_type": "code",
   "execution_count": null,
   "id": "a53702dd-a903-4d3d-8090-7a37520ce7f7",
   "metadata": {},
   "outputs": [],
   "source": [
    "!python sample-cudaq.py"
   ]
  },
  {
   "cell_type": "markdown",
   "id": "22633e50-5ff6-4ffd-a0bc-8f025aa885df",
   "metadata": {},
   "source": [
    "## `C++`"
   ]
  },
  {
   "cell_type": "code",
   "execution_count": null,
   "id": "64acca03-7ad4-48a4-ba2b-bba27a198405",
   "metadata": {},
   "outputs": [],
   "source": [
    "%%writefile sample-cudaq.cpp\n",
    "#include <cudaq.h>\n",
    "\n",
    "struct bell {\n",
    "  int operator()(int num_iters) __qpu__ {\n",
    "    cudaq::qarray<2> q;\n",
    "    int nCorrect = 0;\n",
    "    for (int i = 0; i < num_iters; i++) {\n",
    "      h(q[0]);\n",
    "      x<cudaq::ctrl>(q[0], q[1]);\n",
    "      auto results = mz(q);\n",
    "      if (results[0] == results[1])\n",
    "        nCorrect++;\n",
    "\n",
    "      reset(q[0]);\n",
    "      reset(q[1]);\n",
    "    }\n",
    "    return nCorrect;\n",
    "  }\n",
    "};\n",
    "\n",
    "int main(int argc, char **argv) { \n",
    "    \n",
    "  printf(\"N Correct = %d\\n\", bell{}(100)); \n",
    " \n",
    "  return 0;\n",
    "   \n",
    "}"
   ]
  },
  {
   "cell_type": "code",
   "execution_count": null,
   "id": "9890b2eb-7579-4ab1-8e51-65c5b2560a6e",
   "metadata": {},
   "outputs": [],
   "source": [
    "!nvq++ sample-cudaq.cpp -o sample-cudaq"
   ]
  },
  {
   "cell_type": "code",
   "execution_count": null,
   "id": "1dda027e-6077-4849-914e-f210f06ae626",
   "metadata": {},
   "outputs": [],
   "source": [
    "!./sample-cudaq"
   ]
  }
 ],
 "metadata": {
  "kernelspec": {
   "display_name": "Python 3 (ipykernel)",
   "language": "python",
   "name": "python3"
  },
  "language_info": {
   "codemirror_mode": {
    "name": "ipython",
    "version": 3
   },
   "file_extension": ".py",
   "mimetype": "text/x-python",
   "name": "python",
   "nbconvert_exporter": "python",
   "pygments_lexer": "ipython3",
   "version": "3.8.8"
  }
 },
 "nbformat": 4,
 "nbformat_minor": 5
}
